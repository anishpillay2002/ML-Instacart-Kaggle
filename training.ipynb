{
 "cells": [
  {
   "cell_type": "code",
   "execution_count": 15,
   "metadata": {
    "collapsed": true
   },
   "outputs": [],
   "source": [
    "import pandas as pd\n",
    "import numpy as np\n",
    "\n",
    "orders = pd.read_csv(\"datasets/orders/orders.csv\")\n",
    "departments = pd.read_csv(\"datasets/departments/departments.csv\")\n",
    "aisles = pd.read_csv(\"datasets/aisles/aisles.csv\")\n",
    "order_products_train = pd.read_csv(\"datasets/order_products__train/order_products__train.csv\")\n",
    "order_products_prior = pd.read_csv(\"datasets/order_products__prior/order_products__prior.csv\")\n",
    "products = pd.read_csv(\"datasets/products/products.csv\")"
   ]
  },
  {
   "cell_type": "code",
   "execution_count": 16,
   "metadata": {
    "collapsed": true
   },
   "outputs": [],
   "source": [
    "import seaborn as sns\n",
    "import matplotlib.pyplot as plt\n",
    "from IPython.display import display, HTML\n",
    "%matplotlib inline"
   ]
  },
  {
   "cell_type": "code",
   "execution_count": 17,
   "metadata": {
    "collapsed": true
   },
   "outputs": [],
   "source": [
    "def extract_cust_data(orders,products,aisles,departments, order_products_prior, user_id):\n",
    "    \n",
    "    # Extracting orders of a particular user_id\n",
    "    user_data = orders[orders.user_id==user_id]\n",
    "    \n",
    "    cust_orders = pd.DataFrame();\n",
    "    \n",
    "    # Getting all information from order_products_prior dataframe wrt user_id\n",
    "    for order in (user_data[user_data.eval_set=='prior'].order_id):\n",
    "        cust_orders = cust_orders.append(order_products_prior[order_products_prior.order_id==order])\n",
    "    \n",
    "    \n",
    "    # Assuming '0': 'saturday', '1' : 'sunday', '2': 'monday', '3':'tuesday',  '4':'wednesday', '5':'thursday', '6':'friday'\n",
    "    # and creating a dataframe for reference\n",
    "    dow = pd.DataFrame({'num_dow' : pd.Series([0,1,2,3,4,5,6], index=[0,1,2,3,4,5,6]),\n",
    "     'day' : pd.Series(['Saturday','Sunday','Monday','Tuesday','Wednesday','Thursday','Friday'], index=[0,1,2,3,4,5,6])})\n",
    "    \n",
    "    # Merging all important data from all dataframes\n",
    "    cust_data = cust_orders.merge(user_data[user_data.eval_set=='prior'], left_on='order_id', right_on='order_id', how='outer')\n",
    "    cust_data = cust_data.merge(products , left_on = 'product_id', right_on = 'product_id' , how= 'left')\n",
    "    cust_data = cust_data.merge(aisles , left_on = 'aisle_id', right_on = 'aisle_id' , how= 'left')\n",
    "    cust_data = cust_data.merge(departments , left_on = 'department_id', right_on = 'department_id' , how= 'left')\n",
    "    cust_data = cust_data.merge(dow , left_on = 'order_dow', right_on = 'num_dow' , how= 'left')\n",
    "    cust_data = cust_data[['user_id','order_id','order_number','product_id','aisle_id','department_id','eval_set','add_to_cart_order','reordered','order_dow','order_hour_of_day','days_since_prior_order','product_name','aisle','department','day']]\n",
    "    \n",
    "    return cust_data"
   ]
  },
  {
   "cell_type": "code",
   "execution_count": 18,
   "metadata": {
    "collapsed": false
   },
   "outputs": [
    {
     "data": {
      "text/html": [
       "<div>\n",
       "<table border=\"1\" class=\"dataframe\">\n",
       "  <thead>\n",
       "    <tr style=\"text-align: right;\">\n",
       "      <th></th>\n",
       "      <th>user_id</th>\n",
       "      <th>order_id</th>\n",
       "      <th>order_number</th>\n",
       "      <th>product_id</th>\n",
       "      <th>aisle_id</th>\n",
       "      <th>department_id</th>\n",
       "      <th>eval_set</th>\n",
       "      <th>add_to_cart_order</th>\n",
       "      <th>reordered</th>\n",
       "      <th>order_dow</th>\n",
       "      <th>order_hour_of_day</th>\n",
       "      <th>days_since_prior_order</th>\n",
       "      <th>product_name</th>\n",
       "      <th>aisle</th>\n",
       "      <th>department</th>\n",
       "      <th>day</th>\n",
       "    </tr>\n",
       "  </thead>\n",
       "  <tbody>\n",
       "    <tr>\n",
       "      <th>0</th>\n",
       "      <td>1</td>\n",
       "      <td>2539329</td>\n",
       "      <td>1</td>\n",
       "      <td>196</td>\n",
       "      <td>77</td>\n",
       "      <td>7</td>\n",
       "      <td>prior</td>\n",
       "      <td>1</td>\n",
       "      <td>0</td>\n",
       "      <td>2</td>\n",
       "      <td>8</td>\n",
       "      <td>NaN</td>\n",
       "      <td>Soda</td>\n",
       "      <td>soft drinks</td>\n",
       "      <td>beverages</td>\n",
       "      <td>Monday</td>\n",
       "    </tr>\n",
       "    <tr>\n",
       "      <th>1</th>\n",
       "      <td>1</td>\n",
       "      <td>2539329</td>\n",
       "      <td>1</td>\n",
       "      <td>14084</td>\n",
       "      <td>91</td>\n",
       "      <td>16</td>\n",
       "      <td>prior</td>\n",
       "      <td>2</td>\n",
       "      <td>0</td>\n",
       "      <td>2</td>\n",
       "      <td>8</td>\n",
       "      <td>NaN</td>\n",
       "      <td>Organic Unsweetened Vanilla Almond Milk</td>\n",
       "      <td>soy lactosefree</td>\n",
       "      <td>dairy eggs</td>\n",
       "      <td>Monday</td>\n",
       "    </tr>\n",
       "    <tr>\n",
       "      <th>2</th>\n",
       "      <td>1</td>\n",
       "      <td>2539329</td>\n",
       "      <td>1</td>\n",
       "      <td>12427</td>\n",
       "      <td>23</td>\n",
       "      <td>19</td>\n",
       "      <td>prior</td>\n",
       "      <td>3</td>\n",
       "      <td>0</td>\n",
       "      <td>2</td>\n",
       "      <td>8</td>\n",
       "      <td>NaN</td>\n",
       "      <td>Original Beef Jerky</td>\n",
       "      <td>popcorn jerky</td>\n",
       "      <td>snacks</td>\n",
       "      <td>Monday</td>\n",
       "    </tr>\n",
       "    <tr>\n",
       "      <th>3</th>\n",
       "      <td>1</td>\n",
       "      <td>2539329</td>\n",
       "      <td>1</td>\n",
       "      <td>26088</td>\n",
       "      <td>23</td>\n",
       "      <td>19</td>\n",
       "      <td>prior</td>\n",
       "      <td>4</td>\n",
       "      <td>0</td>\n",
       "      <td>2</td>\n",
       "      <td>8</td>\n",
       "      <td>NaN</td>\n",
       "      <td>Aged White Cheddar Popcorn</td>\n",
       "      <td>popcorn jerky</td>\n",
       "      <td>snacks</td>\n",
       "      <td>Monday</td>\n",
       "    </tr>\n",
       "    <tr>\n",
       "      <th>4</th>\n",
       "      <td>1</td>\n",
       "      <td>2539329</td>\n",
       "      <td>1</td>\n",
       "      <td>26405</td>\n",
       "      <td>54</td>\n",
       "      <td>17</td>\n",
       "      <td>prior</td>\n",
       "      <td>5</td>\n",
       "      <td>0</td>\n",
       "      <td>2</td>\n",
       "      <td>8</td>\n",
       "      <td>NaN</td>\n",
       "      <td>XL Pick-A-Size Paper Towel Rolls</td>\n",
       "      <td>paper goods</td>\n",
       "      <td>household</td>\n",
       "      <td>Monday</td>\n",
       "    </tr>\n",
       "  </tbody>\n",
       "</table>\n",
       "</div>"
      ],
      "text/plain": [
       "   user_id  order_id  order_number  product_id  aisle_id  department_id  \\\n",
       "0        1   2539329             1         196        77              7   \n",
       "1        1   2539329             1       14084        91             16   \n",
       "2        1   2539329             1       12427        23             19   \n",
       "3        1   2539329             1       26088        23             19   \n",
       "4        1   2539329             1       26405        54             17   \n",
       "\n",
       "  eval_set  add_to_cart_order  reordered  order_dow  order_hour_of_day  \\\n",
       "0    prior                  1          0          2                  8   \n",
       "1    prior                  2          0          2                  8   \n",
       "2    prior                  3          0          2                  8   \n",
       "3    prior                  4          0          2                  8   \n",
       "4    prior                  5          0          2                  8   \n",
       "\n",
       "   days_since_prior_order                             product_name  \\\n",
       "0                     NaN                                     Soda   \n",
       "1                     NaN  Organic Unsweetened Vanilla Almond Milk   \n",
       "2                     NaN                      Original Beef Jerky   \n",
       "3                     NaN               Aged White Cheddar Popcorn   \n",
       "4                     NaN         XL Pick-A-Size Paper Towel Rolls   \n",
       "\n",
       "             aisle  department     day  \n",
       "0      soft drinks   beverages  Monday  \n",
       "1  soy lactosefree  dairy eggs  Monday  \n",
       "2    popcorn jerky      snacks  Monday  \n",
       "3    popcorn jerky      snacks  Monday  \n",
       "4      paper goods   household  Monday  "
      ]
     },
     "metadata": {},
     "output_type": "display_data"
    },
    {
     "name": "stdout",
     "output_type": "stream",
     "text": [
      "3421083\n"
     ]
    }
   ],
   "source": [
    "cust1=extract_cust_data(orders,products,aisles,departments, order_products_prior, 1)\n",
    "display(cust1[0:5])\n",
    "print(len(orders))"
   ]
  },
  {
   "cell_type": "code",
   "execution_count": 79,
   "metadata": {
    "collapsed": false
   },
   "outputs": [],
   "source": [
    "# data preparation\n",
    "\n",
    "def average_prev_days(cust):\n",
    "    prior_days=[]\n",
    "    for ord_num in cust1.order_number.unique():\n",
    "        prior_days.append(cust1[cust1.order_number==ord_num].days_since_prior_order.values[0])\n",
    "\n",
    "    prior_days = [x for x in prior_days if not np.isnan(x)]\n",
    "    average_prior_days = np.mean(prior_days)\n",
    "    \n",
    "    return average_prior_days\n",
    "\n"
   ]
  },
  {
   "cell_type": "code",
   "execution_count": null,
   "metadata": {
    "collapsed": true
   },
   "outputs": [],
   "source": []
  },
  {
   "cell_type": "code",
   "execution_count": null,
   "metadata": {
    "collapsed": true
   },
   "outputs": [],
   "source": []
  }
 ],
 "metadata": {
  "kernelspec": {
   "display_name": "Python 3",
   "language": "python",
   "name": "python3"
  },
  "language_info": {
   "codemirror_mode": {
    "name": "ipython",
    "version": 3
   },
   "file_extension": ".py",
   "mimetype": "text/x-python",
   "name": "python",
   "nbconvert_exporter": "python",
   "pygments_lexer": "ipython3",
   "version": "3.5.2"
  }
 },
 "nbformat": 4,
 "nbformat_minor": 2
}
