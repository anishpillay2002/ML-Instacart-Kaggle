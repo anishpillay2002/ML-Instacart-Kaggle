{
 "cells": [
  {
   "cell_type": "code",
   "execution_count": 29,
   "metadata": {},
   "outputs": [],
   "source": [
    "# function to download kaggle datasets\n",
    "\n",
    "\n",
    "def download_extract_zip_url(dataset_folder,download_url,user=None,passwrd=None):\n",
    "    import requests\n",
    "    import zipfile, io\n",
    "    import os\n",
    "    from getpass import getpass\n",
    "    # The direct link to the Kaggle data set\n",
    "    \n",
    "    print (\"To download data from\",download_url)\n",
    "\n",
    "    # The local path where the data set is saved.\n",
    "    local_filename = download_url.split('/')[-1]\n",
    "    local_filename_wo_ext = local_filename.split('.')[0]\n",
    "    print(\"To save as\",local_filename)\n",
    "    \n",
    "    \n",
    "    if not (user or passwrd):\n",
    "        user    = getpass()\n",
    "        passwrd = getpass()\n",
    "    \n",
    "    # Kaggle Username and Password\n",
    "    kaggle_info = {'UserName': user, 'Password': passwrd}\n",
    "    if os.path.exists(dataset_folder+'/'+local_filename_wo_ext):\n",
    "        print('- %s database exists \\n' %(local_filename_wo_ext))\n",
    "    else:\n",
    "        # Attempts to download the CSV file. Gets rejected because we are not logged in.\n",
    "        r = requests.get(download_url)\n",
    "\n",
    "        # Login to Kaggle and retrieve the data.\n",
    "        r = requests.post(r.url, data = kaggle_info)\n",
    "\n",
    "\n",
    "        z = zipfile.ZipFile(io.BytesIO(r.content))\n",
    "        z.extractall(dataset_folder+'/'+local_filename_wo_ext)\n",
    "        print('--> Downloaded %s dataset <-- \\n' %(local_filename_wo_ext))"
   ]
  },
  {
   "cell_type": "code",
   "execution_count": 31,
   "metadata": {},
   "outputs": [
    {
     "name": "stdout",
     "output_type": "stream",
     "text": [
      "To download data from https://www.kaggle.com/c/instacart-market-basket-analysis/download/order_products__prior.csv.zip\n",
      "To save as order_products__prior.csv.zip\n",
      "- order_products__prior database exists \n",
      "\n",
      "To download data from https://www.kaggle.com/c/instacart-market-basket-analysis/download/departments.csv.zip\n",
      "To save as departments.csv.zip\n",
      "- departments database exists \n",
      "\n",
      "To download data from https://www.kaggle.com/c/instacart-market-basket-analysis/download/aisles.csv.zip\n",
      "To save as aisles.csv.zip\n",
      "- aisles database exists \n",
      "\n",
      "To download data from https://www.kaggle.com/c/instacart-market-basket-analysis/download/order_products__train.csv.zip\n",
      "To save as order_products__train.csv.zip\n",
      "- order_products__train database exists \n",
      "\n",
      "To download data from https://www.kaggle.com/c/instacart-market-basket-analysis/download/orders.csv.zip\n",
      "To save as orders.csv.zip\n",
      "- orders database exists \n",
      "\n",
      "To download data from https://www.kaggle.com/c/instacart-market-basket-analysis/download/products.csv.zip\n",
      "To save as products.csv.zip\n",
      "- products database exists \n",
      "\n",
      "To download data from https://www.kaggle.com/c/instacart-market-basket-analysis/download/sample_submission.csv.zip\n",
      "To save as sample_submission.csv.zip\n",
      "- sample_submission database exists \n",
      "\n"
     ]
    }
   ],
   "source": [
    "# Downloaded all dataset files to datasets folder\n",
    "\n",
    "download_extract_zip_url('datasets','https://www.kaggle.com/c/instacart-market-basket-analysis/download/order_products__prior.csv.zip',user,passwrd)\n",
    "download_extract_zip_url('datasets','https://www.kaggle.com/c/instacart-market-basket-analysis/download/departments.csv.zip',user,passwrd)\n",
    "download_extract_zip_url('datasets','https://www.kaggle.com/c/instacart-market-basket-analysis/download/aisles.csv.zip',user,passwrd)\n",
    "download_extract_zip_url('datasets','https://www.kaggle.com/c/instacart-market-basket-analysis/download/order_products__train.csv.zip',user,passwrd)\n",
    "download_extract_zip_url('datasets','https://www.kaggle.com/c/instacart-market-basket-analysis/download/orders.csv.zip',user,passwrd)\n",
    "download_extract_zip_url('datasets','https://www.kaggle.com/c/instacart-market-basket-analysis/download/products.csv.zip',user,passwrd)\n",
    "download_extract_zip_url('datasets','https://www.kaggle.com/c/instacart-market-basket-analysis/download/sample_submission.csv.zip',user,passwrd)\n",
    "\n"
   ]
  },
  {
   "cell_type": "code",
   "execution_count": null,
   "metadata": {
    "collapsed": true
   },
   "outputs": [],
   "source": []
  }
 ],
 "metadata": {
  "kernelspec": {
   "display_name": "Python 3",
   "language": "python",
   "name": "python3"
  },
  "language_info": {
   "codemirror_mode": {
    "name": "ipython",
    "version": 3
   },
   "file_extension": ".py",
   "mimetype": "text/x-python",
   "name": "python",
   "nbconvert_exporter": "python",
   "pygments_lexer": "ipython3",
   "version": "3.5.2"
  },
  "widgets": {
   "state": {},
   "version": "1.1.2"
  }
 },
 "nbformat": 4,
 "nbformat_minor": 2
}
